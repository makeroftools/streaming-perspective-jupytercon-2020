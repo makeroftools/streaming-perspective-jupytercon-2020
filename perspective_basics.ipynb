{
 "cells": [
  {
   "cell_type": "code",
   "execution_count": 3,
   "metadata": {},
   "outputs": [],
   "source": [
    "import os\n",
    "import sys\n",
    "from datetime import date, datetime\n",
    "\n",
    "import pandas as pd\n",
    "import numpy as np\n",
    "import pyarrow as pa\n",
    "import perspective"
   ]
  },
  {
   "cell_type": "markdown",
   "metadata": {},
   "source": [
    "### Perspective Basics\n",
    "\n",
    "TODO: brief description"
   ]
  },
  {
   "cell_type": "code",
   "execution_count": 4,
   "metadata": {},
   "outputs": [],
   "source": [
    "# Set up some dummy data\n",
    "data = pd.DataFrame({\n",
    "    \"a\": np.random.rand(100),\n",
    "    \"b\": np.ones(100),\n",
    "    \"c\": [str(i) for i in range(100)],\n",
    "    \"d\": [datetime.now() for i in range(100)],\n",
    "    \"e\": [datetime.today() for i in range(100)]\n",
    "})\n",
    "\n",
    "# create a perspective.Table - the base container for data\n",
    "table = perspective.Table(data)\n",
    "\n",
    "# create a view - a query on the data\n",
    "view = table.view(filter=[[\"a\", \">\", 0.5]], sort=[[\"a\", \"desc\"]])"
   ]
  },
  {
   "cell_type": "markdown",
   "metadata": {},
   "source": [
    "#### Getting Data"
   ]
  },
  {
   "cell_type": "code",
   "execution_count": 5,
   "metadata": {},
   "outputs": [
    {
     "data": {
      "text/html": [
       "<div>\n",
       "<style scoped>\n",
       "    .dataframe tbody tr th:only-of-type {\n",
       "        vertical-align: middle;\n",
       "    }\n",
       "\n",
       "    .dataframe tbody tr th {\n",
       "        vertical-align: top;\n",
       "    }\n",
       "\n",
       "    .dataframe thead th {\n",
       "        text-align: right;\n",
       "    }\n",
       "</style>\n",
       "<table border=\"1\" class=\"dataframe\">\n",
       "  <thead>\n",
       "    <tr style=\"text-align: right;\">\n",
       "      <th></th>\n",
       "      <th>index</th>\n",
       "      <th>a</th>\n",
       "      <th>b</th>\n",
       "      <th>c</th>\n",
       "      <th>d</th>\n",
       "      <th>e</th>\n",
       "    </tr>\n",
       "  </thead>\n",
       "  <tbody>\n",
       "    <tr>\n",
       "      <th>0</th>\n",
       "      <td>21</td>\n",
       "      <td>0.991981</td>\n",
       "      <td>1.0</td>\n",
       "      <td>21</td>\n",
       "      <td>2020-09-03 14:42:35.821</td>\n",
       "      <td>2020-09-03 14:42:35.821</td>\n",
       "    </tr>\n",
       "    <tr>\n",
       "      <th>1</th>\n",
       "      <td>50</td>\n",
       "      <td>0.976966</td>\n",
       "      <td>1.0</td>\n",
       "      <td>50</td>\n",
       "      <td>2020-09-03 14:42:35.821</td>\n",
       "      <td>2020-09-03 14:42:35.821</td>\n",
       "    </tr>\n",
       "    <tr>\n",
       "      <th>2</th>\n",
       "      <td>28</td>\n",
       "      <td>0.968338</td>\n",
       "      <td>1.0</td>\n",
       "      <td>28</td>\n",
       "      <td>2020-09-03 14:42:35.821</td>\n",
       "      <td>2020-09-03 14:42:35.821</td>\n",
       "    </tr>\n",
       "    <tr>\n",
       "      <th>3</th>\n",
       "      <td>30</td>\n",
       "      <td>0.967631</td>\n",
       "      <td>1.0</td>\n",
       "      <td>30</td>\n",
       "      <td>2020-09-03 14:42:35.821</td>\n",
       "      <td>2020-09-03 14:42:35.821</td>\n",
       "    </tr>\n",
       "    <tr>\n",
       "      <th>4</th>\n",
       "      <td>70</td>\n",
       "      <td>0.957843</td>\n",
       "      <td>1.0</td>\n",
       "      <td>70</td>\n",
       "      <td>2020-09-03 14:42:35.821</td>\n",
       "      <td>2020-09-03 14:42:35.821</td>\n",
       "    </tr>\n",
       "    <tr>\n",
       "      <th>5</th>\n",
       "      <td>88</td>\n",
       "      <td>0.955356</td>\n",
       "      <td>1.0</td>\n",
       "      <td>88</td>\n",
       "      <td>2020-09-03 14:42:35.821</td>\n",
       "      <td>2020-09-03 14:42:35.821</td>\n",
       "    </tr>\n",
       "    <tr>\n",
       "      <th>6</th>\n",
       "      <td>41</td>\n",
       "      <td>0.947526</td>\n",
       "      <td>1.0</td>\n",
       "      <td>41</td>\n",
       "      <td>2020-09-03 14:42:35.821</td>\n",
       "      <td>2020-09-03 14:42:35.821</td>\n",
       "    </tr>\n",
       "    <tr>\n",
       "      <th>7</th>\n",
       "      <td>57</td>\n",
       "      <td>0.938354</td>\n",
       "      <td>1.0</td>\n",
       "      <td>57</td>\n",
       "      <td>2020-09-03 14:42:35.821</td>\n",
       "      <td>2020-09-03 14:42:35.821</td>\n",
       "    </tr>\n",
       "    <tr>\n",
       "      <th>8</th>\n",
       "      <td>48</td>\n",
       "      <td>0.934444</td>\n",
       "      <td>1.0</td>\n",
       "      <td>48</td>\n",
       "      <td>2020-09-03 14:42:35.821</td>\n",
       "      <td>2020-09-03 14:42:35.821</td>\n",
       "    </tr>\n",
       "    <tr>\n",
       "      <th>9</th>\n",
       "      <td>80</td>\n",
       "      <td>0.932001</td>\n",
       "      <td>1.0</td>\n",
       "      <td>80</td>\n",
       "      <td>2020-09-03 14:42:35.821</td>\n",
       "      <td>2020-09-03 14:42:35.821</td>\n",
       "    </tr>\n",
       "  </tbody>\n",
       "</table>\n",
       "</div>"
      ],
      "text/plain": [
       "   index         a    b   c                       d                       e\n",
       "0     21  0.991981  1.0  21 2020-09-03 14:42:35.821 2020-09-03 14:42:35.821\n",
       "1     50  0.976966  1.0  50 2020-09-03 14:42:35.821 2020-09-03 14:42:35.821\n",
       "2     28  0.968338  1.0  28 2020-09-03 14:42:35.821 2020-09-03 14:42:35.821\n",
       "3     30  0.967631  1.0  30 2020-09-03 14:42:35.821 2020-09-03 14:42:35.821\n",
       "4     70  0.957843  1.0  70 2020-09-03 14:42:35.821 2020-09-03 14:42:35.821\n",
       "5     88  0.955356  1.0  88 2020-09-03 14:42:35.821 2020-09-03 14:42:35.821\n",
       "6     41  0.947526  1.0  41 2020-09-03 14:42:35.821 2020-09-03 14:42:35.821\n",
       "7     57  0.938354  1.0  57 2020-09-03 14:42:35.821 2020-09-03 14:42:35.821\n",
       "8     48  0.934444  1.0  48 2020-09-03 14:42:35.821 2020-09-03 14:42:35.821\n",
       "9     80  0.932001  1.0  80 2020-09-03 14:42:35.821 2020-09-03 14:42:35.821"
      ]
     },
     "metadata": {},
     "output_type": "display_data"
    },
    {
     "data": {
      "text/plain": [
       "'After update'"
      ]
     },
     "metadata": {},
     "output_type": "display_data"
    },
    {
     "data": {
      "text/html": [
       "<div>\n",
       "<style scoped>\n",
       "    .dataframe tbody tr th:only-of-type {\n",
       "        vertical-align: middle;\n",
       "    }\n",
       "\n",
       "    .dataframe tbody tr th {\n",
       "        vertical-align: top;\n",
       "    }\n",
       "\n",
       "    .dataframe thead th {\n",
       "        text-align: right;\n",
       "    }\n",
       "</style>\n",
       "<table border=\"1\" class=\"dataframe\">\n",
       "  <thead>\n",
       "    <tr style=\"text-align: right;\">\n",
       "      <th></th>\n",
       "      <th>index</th>\n",
       "      <th>a</th>\n",
       "      <th>b</th>\n",
       "      <th>c</th>\n",
       "      <th>d</th>\n",
       "      <th>e</th>\n",
       "    </tr>\n",
       "  </thead>\n",
       "  <tbody>\n",
       "    <tr>\n",
       "      <th>0</th>\n",
       "      <td>None</td>\n",
       "      <td>1.500000</td>\n",
       "      <td>1.0</td>\n",
       "      <td>string</td>\n",
       "      <td>2020-09-03 18:42:54.076</td>\n",
       "      <td>NaT</td>\n",
       "    </tr>\n",
       "    <tr>\n",
       "      <th>1</th>\n",
       "      <td>21</td>\n",
       "      <td>0.991981</td>\n",
       "      <td>1.0</td>\n",
       "      <td>21</td>\n",
       "      <td>2020-09-03 14:42:35.821</td>\n",
       "      <td>2020-09-03 14:42:35.821</td>\n",
       "    </tr>\n",
       "    <tr>\n",
       "      <th>2</th>\n",
       "      <td>50</td>\n",
       "      <td>0.976966</td>\n",
       "      <td>1.0</td>\n",
       "      <td>50</td>\n",
       "      <td>2020-09-03 14:42:35.821</td>\n",
       "      <td>2020-09-03 14:42:35.821</td>\n",
       "    </tr>\n",
       "    <tr>\n",
       "      <th>3</th>\n",
       "      <td>28</td>\n",
       "      <td>0.968338</td>\n",
       "      <td>1.0</td>\n",
       "      <td>28</td>\n",
       "      <td>2020-09-03 14:42:35.821</td>\n",
       "      <td>2020-09-03 14:42:35.821</td>\n",
       "    </tr>\n",
       "    <tr>\n",
       "      <th>4</th>\n",
       "      <td>30</td>\n",
       "      <td>0.967631</td>\n",
       "      <td>1.0</td>\n",
       "      <td>30</td>\n",
       "      <td>2020-09-03 14:42:35.821</td>\n",
       "      <td>2020-09-03 14:42:35.821</td>\n",
       "    </tr>\n",
       "    <tr>\n",
       "      <th>5</th>\n",
       "      <td>70</td>\n",
       "      <td>0.957843</td>\n",
       "      <td>1.0</td>\n",
       "      <td>70</td>\n",
       "      <td>2020-09-03 14:42:35.821</td>\n",
       "      <td>2020-09-03 14:42:35.821</td>\n",
       "    </tr>\n",
       "    <tr>\n",
       "      <th>6</th>\n",
       "      <td>88</td>\n",
       "      <td>0.955356</td>\n",
       "      <td>1.0</td>\n",
       "      <td>88</td>\n",
       "      <td>2020-09-03 14:42:35.821</td>\n",
       "      <td>2020-09-03 14:42:35.821</td>\n",
       "    </tr>\n",
       "    <tr>\n",
       "      <th>7</th>\n",
       "      <td>41</td>\n",
       "      <td>0.947526</td>\n",
       "      <td>1.0</td>\n",
       "      <td>41</td>\n",
       "      <td>2020-09-03 14:42:35.821</td>\n",
       "      <td>2020-09-03 14:42:35.821</td>\n",
       "    </tr>\n",
       "    <tr>\n",
       "      <th>8</th>\n",
       "      <td>57</td>\n",
       "      <td>0.938354</td>\n",
       "      <td>1.0</td>\n",
       "      <td>57</td>\n",
       "      <td>2020-09-03 14:42:35.821</td>\n",
       "      <td>2020-09-03 14:42:35.821</td>\n",
       "    </tr>\n",
       "    <tr>\n",
       "      <th>9</th>\n",
       "      <td>48</td>\n",
       "      <td>0.934444</td>\n",
       "      <td>1.0</td>\n",
       "      <td>48</td>\n",
       "      <td>2020-09-03 14:42:35.821</td>\n",
       "      <td>2020-09-03 14:42:35.821</td>\n",
       "    </tr>\n",
       "  </tbody>\n",
       "</table>\n",
       "</div>"
      ],
      "text/plain": [
       "  index         a    b       c                       d                       e\n",
       "0  None  1.500000  1.0  string 2020-09-03 18:42:54.076                     NaT\n",
       "1    21  0.991981  1.0      21 2020-09-03 14:42:35.821 2020-09-03 14:42:35.821\n",
       "2    50  0.976966  1.0      50 2020-09-03 14:42:35.821 2020-09-03 14:42:35.821\n",
       "3    28  0.968338  1.0      28 2020-09-03 14:42:35.821 2020-09-03 14:42:35.821\n",
       "4    30  0.967631  1.0      30 2020-09-03 14:42:35.821 2020-09-03 14:42:35.821\n",
       "5    70  0.957843  1.0      70 2020-09-03 14:42:35.821 2020-09-03 14:42:35.821\n",
       "6    88  0.955356  1.0      88 2020-09-03 14:42:35.821 2020-09-03 14:42:35.821\n",
       "7    41  0.947526  1.0      41 2020-09-03 14:42:35.821 2020-09-03 14:42:35.821\n",
       "8    57  0.938354  1.0      57 2020-09-03 14:42:35.821 2020-09-03 14:42:35.821\n",
       "9    48  0.934444  1.0      48 2020-09-03 14:42:35.821 2020-09-03 14:42:35.821"
      ]
     },
     "metadata": {},
     "output_type": "display_data"
    }
   ],
   "source": [
    "# get some data from the view - supported formats are dataframes, Apache Arrow, dicts of numpy arrays, row/columnar JSON, and CSV\n",
    "filtered = view.to_df(end_row=10)\n",
    "display(filtered)\n",
    "\n",
    "# append to the table with new data\n",
    "table.update([{\"a\": 1.5, \"b\": 1, \"c\": \"string\", \"d\": datetime.now()}])\n",
    "\n",
    "# re-query the data\n",
    "filtered = view.to_df(end_row=10)\n",
    "display(\"After update\", filtered)"
   ]
  },
  {
   "cell_type": "markdown",
   "metadata": {},
   "source": [
    "#### Schemas and Updates"
   ]
  },
  {
   "cell_type": "code",
   "execution_count": 6,
   "metadata": {},
   "outputs": [],
   "source": [
    "# Create an indexed table from a schema - a mapping of column names to types, primary keyed by `a`\n",
    "schema_table = perspective.Table({\n",
    "    \"a\": float,\n",
    "    \"b\": float,\n",
    "    \"c\": str,\n",
    "    \"d\": datetime\n",
    "}, index=\"a\")\n",
    "\n",
    "# Add an `on_update` callback, which fires with an Arrow-encoded binary of the updated rows\n",
    "def callback(port, delta):\n",
    "    # Update the indexed table with the updated rows, which will update in-place based on `index`\n",
    "    schema_table.update(delta)\n",
    "\n",
    "view.on_update(callback, mode=\"row\")"
   ]
  },
  {
   "cell_type": "code",
   "execution_count": 7,
   "metadata": {},
   "outputs": [
    {
     "data": {
      "text/plain": [
       "{'__ROW_PATH__': [[], [1.5], [2.5]],\n",
       " 'a': [4.0, 1.5, 2.5],\n",
       " 'b': [3.0, 1.0, 2.0],\n",
       " 'd': [2, 1, 1],\n",
       " 'c': ['-', 'string', 'string2']}"
      ]
     },
     "metadata": {},
     "output_type": "display_data"
    }
   ],
   "source": [
    "# Update the unindexed table, and query the indexed table\n",
    "table.update([\n",
    "    {\"a\": 1.5, \"b\": 1, \"c\": \"string\", \"d\": datetime.now()},\n",
    "    {\"a\": 2.5, \"b\": 2, \"c\": \"string2\", \"d\": datetime.now()}\n",
    "])\n",
    "\n",
    "# Group values by `a`\n",
    "pivoted_view = schema_table.view(row_pivots=[\"a\"], aggregates={\"c\": \"unique\"})\n",
    "\n",
    "# Get column-oriented JSON\n",
    "pivoted_output = pivoted_view.to_columns()\n",
    "display(pivoted_output)"
   ]
  },
  {
   "cell_type": "code",
   "execution_count": 8,
   "metadata": {},
   "outputs": [
    {
     "data": {
      "text/plain": [
       "{'__ROW_PATH__': [[], [1.5], [2.5]],\n",
       " 'a': [4.0, 1.5, 2.5],\n",
       " 'b': [102.0, 100.0, 2.0],\n",
       " 'd': [2, 1, 1],\n",
       " 'c': ['-', 'new string', 'string2']}"
      ]
     },
     "metadata": {},
     "output_type": "display_data"
    }
   ],
   "source": [
    "# Updates with the same primary key will overwrite\n",
    "table.update([\n",
    "    {\"a\": 1.5, \"b\": 100, \"c\": \"new string\"}\n",
    "])\n",
    "\n",
    "pivoted_output = pivoted_view.to_columns()\n",
    "display(pivoted_output)"
   ]
  },
  {
   "cell_type": "markdown",
   "metadata": {},
   "source": [
    "#### TODO: Working with Arrows"
   ]
  },
  {
   "cell_type": "markdown",
   "metadata": {},
   "source": [
    "### PerspectiveWidget\n",
    "\n",
    "TODO: Describe"
   ]
  },
  {
   "cell_type": "code",
   "execution_count": 9,
   "metadata": {},
   "outputs": [
    {
     "data": {
      "application/vnd.jupyter.widget-view+json": {
       "model_id": "1b5bbdd25c734dbb883254c7ba0b76e0",
       "version_major": 2,
       "version_minor": 0
      },
      "text/plain": [
       "PerspectiveWidget(aggregates={'a': 'avg'}, columns=['index', 'a', 'b', 'c', 'd', 'e'], row_pivots=['a'])"
      ]
     },
     "metadata": {},
     "output_type": "display_data"
    }
   ],
   "source": [
    "# Create a PerspectiveWidget from the tables we just created\n",
    "widget = perspective.PerspectiveWidget(table, row_pivots=[\"a\"], aggregates={\"a\": \"avg\"})\n",
    "display(widget)"
   ]
  },
  {
   "cell_type": "markdown",
   "metadata": {},
   "source": [
    "### Chaining Perspectives with `on_update`"
   ]
  },
  {
   "cell_type": "code",
   "execution_count": 10,
   "metadata": {},
   "outputs": [],
   "source": [
    "# TODO"
   ]
  },
  {
   "cell_type": "code",
   "execution_count": null,
   "metadata": {},
   "outputs": [],
   "source": []
  }
 ],
 "metadata": {
  "kernelspec": {
   "display_name": "Python 3",
   "language": "python",
   "name": "python3"
  },
  "language_info": {
   "codemirror_mode": {
    "name": "ipython",
    "version": 3
   },
   "file_extension": ".py",
   "mimetype": "text/x-python",
   "name": "python",
   "nbconvert_exporter": "python",
   "pygments_lexer": "ipython3",
   "version": "3.7.5"
  }
 },
 "nbformat": 4,
 "nbformat_minor": 4
}
