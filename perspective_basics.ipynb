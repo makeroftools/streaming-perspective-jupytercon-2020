{
 "cells": [
  {
   "cell_type": "code",
   "execution_count": null,
   "metadata": {},
   "outputs": [],
   "source": [
    "import os\n",
    "import sys\n",
    "import random\n",
    "from datetime import date, datetime\n",
    "\n",
    "import pandas as pd\n",
    "import numpy as np\n",
    "import pyarrow as pa\n",
    "\n",
    "import perspective"
   ]
  },
  {
   "cell_type": "markdown",
   "metadata": {},
   "source": [
    "### Introduction to Perspective\n",
    "\n",
    "Perspective is an interactive visualization component for large, real-time datasets. Originally developed for J.P. Morgan's trading business, Perspective makes it simple to build real-time & user configurable analytics in both the browser and in Python. Use it to create reports, dashboards, notebooks and applications, with static data or streaming updates via Apache Arrow."
   ]
  },
  {
   "cell_type": "markdown",
   "metadata": {},
   "source": [
    "### Tables and Views\n",
    "\n",
    "The `Table` is the core data container in Perspective. You can create a `Table` by initializing it with a dataset, or with a schema—a mapping of column names to data types.\n",
    "\n",
    "If you create a `Table` with an `index` column, it will update with new data in-place based on the primary key values."
   ]
  },
  {
   "cell_type": "code",
   "execution_count": null,
   "metadata": {},
   "outputs": [],
   "source": [
    "# Set up some dummy data\n",
    "data = pd.DataFrame({\n",
    "    \"a\": np.random.rand(100),\n",
    "    \"b\": np.ones(100),\n",
    "    \"c\": [str(i) for i in range(100)],\n",
    "    \"d\": [datetime.now() for i in range(100)],\n",
    "    \"e\": [datetime.today() for i in range(100)]\n",
    "})\n",
    "\n",
    "# create a perspective.Table - the base container for data\n",
    "table = perspective.Table(data)\n",
    "\n",
    "# Create an indexed table from a schema - a mapping of column names to types, primary keyed by `a`\n",
    "schema_table = perspective.Table({\n",
    "    \"a\": float,\n",
    "    \"b\": float,\n",
    "    \"c\": str,\n",
    "    \"d\": datetime\n",
    "}, index=\"a\")"
   ]
  },
  {
   "cell_type": "markdown",
   "metadata": {},
   "source": [
    "The `View` allows you to query and transform data, as well as serialize the Table's data:"
   ]
  },
  {
   "cell_type": "code",
   "execution_count": null,
   "metadata": {},
   "outputs": [],
   "source": [
    "# create a view - a continuous query on the data\n",
    "view = table.view(filter=[[\"a\", \">\", 0.5]], sort=[[\"a\", \"desc\"]])"
   ]
  },
  {
   "cell_type": "markdown",
   "metadata": {},
   "source": [
    "For a more detailed overview of the `Table` and `View` API, see the [Perspective User Guide](https://perspective.finos.org/docs/md/python.html)."
   ]
  },
  {
   "cell_type": "markdown",
   "metadata": {},
   "source": [
    "### Updates\n",
    "\n",
    "To append data or make in-place updates, call the Table's `update()` method with the dataset you want to add.\n",
    "\n",
    "If the Table has an `index` set, like `schema_table` above, updates will occur in-place based on the index column. If the Table is unindexed, updates will append\n",
    "data to the end of the Table."
   ]
  },
  {
   "cell_type": "code",
   "execution_count": null,
   "metadata": {},
   "outputs": [],
   "source": [
    "# Update the unindexed table\n",
    "table.update([\n",
    "    {\"a\": 1500, \"b\": 1, \"c\": \"string\", \"d\": datetime.now()},\n",
    "    {\"a\": 2500, \"b\": 2, \"c\": \"string2\", \"d\": datetime.now()}\n",
    "])\n",
    "\n",
    "# Query it to see the new data\n",
    "sorted_view = table.view(sort=[[\"a\", \"asc\"]])\n",
    "\n",
    "sorted_view.to_df()"
   ]
  },
  {
   "cell_type": "code",
   "execution_count": null,
   "metadata": {},
   "outputs": [],
   "source": [
    "table.update([\n",
    "    {\"a\": 1500, \"b\": 1, \"c\": \"string\", \"d\": datetime.now()},\n",
    "    {\"a\": 2500, \"b\": 2, \"c\": \"string2\", \"d\": datetime.now()}\n",
    "])"
   ]
  },
  {
   "cell_type": "code",
   "execution_count": null,
   "metadata": {},
   "outputs": [],
   "source": [
    "sorted_view.to_df()"
   ]
  },
  {
   "cell_type": "code",
   "execution_count": null,
   "metadata": {},
   "outputs": [],
   "source": [
    "# On indexed tables, updates with new primary keys will append\n",
    "schema_table.update([\n",
    "    {\"a\": 1.5, \"b\": 100, \"c\": \"a\"},\n",
    "    {\"a\": 2.5, \"b\": 150, \"c\": \"b\"},\n",
    "    {\"a\": 3.5, \"b\": 200, \"c\": \"c\"},\n",
    "])\n",
    "\n",
    "schema_view = schema_table.view()\n",
    "schema_view.to_df()"
   ]
  },
  {
   "cell_type": "code",
   "execution_count": null,
   "metadata": {},
   "outputs": [],
   "source": [
    "# Updates with the same primary keys will overwrite\n",
    "schema_table.update([\n",
    "    {\"a\": 5.5, \"b\": 150, \"c\": \"appended!\"},\n",
    "    {\"a\": 1.5, \"b\": 1500, \"c\": \"overwritten!\"},\n",
    "])\n",
    "\n",
    "schema_view = schema_table.view()\n",
    "schema_view.to_df()"
   ]
  },
  {
   "cell_type": "markdown",
   "metadata": {},
   "source": [
    "### `on_update` callbacks\n",
    "\n",
    "Using `on_update`, you can execute a callback whenever the Table updates. This offers a world of possibilities throgh chaining together Perspective Tables, triggering actions on a UI, making calculations whenever the Table has updated, etc.\n",
    "\n",
    "Here, we use `on_update` to update an indexed table from an unindexed table:"
   ]
  },
  {
   "cell_type": "code",
   "execution_count": null,
   "metadata": {},
   "outputs": [],
   "source": [
    "# Add an `on_update` callback, which fires with an Arrow-encoded binary of the updated rows\n",
    "def callback(port, delta):\n",
    "    # Update the indexed table with the updated rows, which will update in-place based on `index`\n",
    "    schema_table.update(delta)\n",
    "\n",
    "view.on_update(callback, mode=\"row\")"
   ]
  },
  {
   "cell_type": "markdown",
   "metadata": {},
   "source": [
    "Now we can update the unindexed table, and the indexed table will automatically update:"
   ]
  },
  {
   "cell_type": "code",
   "execution_count": null,
   "metadata": {},
   "outputs": [],
   "source": [
    "# Update the unindexed table, and query the indexed table\n",
    "# On indexed tables, updates with new primary keys will append\n",
    "table.update([\n",
    "    {\"a\": 1.5, \"b\": 100, \"c\": \"just updated\"},\n",
    "    {\"a\": 2.5, \"b\": 150, \"c\": \"also new\"},\n",
    "    {\"a\": 3.5, \"b\": 200, \"c\": \"me three\"},\n",
    "    {\"a\": 6.5, \"b\": 200, \"c\": \"just appended\"},\n",
    "])\n",
    "\n",
    "schema_view.to_df()"
   ]
  },
  {
   "cell_type": "markdown",
   "metadata": {},
   "source": [
    "### Serializing Data\n",
    "\n",
    "Data can be retrieved from a `View` by calling one of its `to_*` methods: `to_df`, `to_arrow`, `to_dicts`, `to_records`, and `to_csv`. When the underlying `Table` updates, the `View` is automatically notified with new data and will always return the most up-to-date dataset."
   ]
  },
  {
   "cell_type": "code",
   "execution_count": null,
   "metadata": {},
   "outputs": [],
   "source": [
    "# get some data from the view - supported formats are dataframes, Apache Arrow, dicts of numpy arrays, row/columnar JSON, and CSV\n",
    "filtered = view.to_df(end_row=10)\n",
    "display(filtered)"
   ]
  },
  {
   "cell_type": "code",
   "execution_count": null,
   "metadata": {},
   "outputs": [],
   "source": [
    "# append to the table with new data\n",
    "table.update([{\"a\": 1.5, \"b\": 1, \"c\": \"string\", \"d\": datetime.now()}])\n",
    "\n",
    "# re-query the data\n",
    "filtered = view.to_df(end_row=10)\n",
    "display(filtered)"
   ]
  },
  {
   "cell_type": "markdown",
   "metadata": {},
   "source": [
    "### Working with Arrows  \n",
    "\n",
    "Perspective can load and create binaries in the Apache Arrow format - just call the `View`'s `to_arrow()` method. After the arrow is emitted, it can be saved to disk, coerced into a `pyarrow.Table`, and more. "
   ]
  },
  {
   "cell_type": "code",
   "execution_count": null,
   "metadata": {},
   "outputs": [],
   "source": [
    "arrow = view.to_arrow()\n",
    "with open(\"example.arrow\", \"wb\") as file:\n",
    "    file.write(arrow)"
   ]
  },
  {
   "cell_type": "markdown",
   "metadata": {},
   "source": [
    "Opening arrows from the filesystem is easy:"
   ]
  },
  {
   "cell_type": "code",
   "execution_count": null,
   "metadata": {},
   "outputs": [],
   "source": [
    "with open(\"example.arrow\", \"rb\") as arrow:\n",
    "    w = perspective.PerspectiveWidget(arrow.read())\n",
    "    display(w)"
   ]
  },
  {
   "cell_type": "markdown",
   "metadata": {},
   "source": [
    "### PerspectiveWidget\n",
    "\n",
    "`PerspectiveWidget` is a Jupyter widget that uses `<perspective-viewer>` to visualize and transform your dataset within the browser, with all the same features and performance as Perspective in a standalone web application."
   ]
  },
  {
   "cell_type": "code",
   "execution_count": null,
   "metadata": {},
   "outputs": [],
   "source": [
    "# Create a PerspectiveWidget from the tables we just created\n",
    "widget = perspective.PerspectiveWidget(schema_table, server=True, plugin=\"datagrid\", row_pivots=[\"a\"], aggregates={\"a\": \"avg\"}, editable=True)\n",
    "display(widget)"
   ]
  },
  {
   "cell_type": "markdown",
   "metadata": {},
   "source": [
    "### Streaming data in Perspective\n",
    "\n",
    "We've demonstrated how Perspective can be used with static datasets and schemas, but let's create a streaming example that shows how it performs over rapidly streaming data. The following datasource generates random rows every 50 milliseconds, and runs on an IOloop:"
   ]
  },
  {
   "cell_type": "code",
   "execution_count": null,
   "metadata": {},
   "outputs": [],
   "source": [
    "import asyncio\n",
    "import threading"
   ]
  },
  {
   "cell_type": "code",
   "execution_count": null,
   "metadata": {},
   "outputs": [],
   "source": [
    "SECURITIES = [\"AAPL.N\", \"AMZN.N\", \"QQQ.N\", \"NVDA.N\", \"TSLA.N\",\n",
    "              \"FB.N\", \"MSFT.N\", \"TLT.N\", \"XIV.N\", \"YY.N\",\n",
    "              \"CSCO.N\", \"GOOGL.N\", \"PCLN.N\"]\n",
    "\n",
    "CLIENTS = [\"Homer\", \"Marge\", \"Bart\", \"Lisa\", \"Maggie\",\n",
    "           \"Moe\", \"Lenny\", \"Carl\", \"Krusty\"]\n",
    "\n",
    "def data_source():\n",
    "    rows = []\n",
    "    modifier = random.random() * random.randint(1, 50)\n",
    "    for i in range(5):\n",
    "        rows.append({\n",
    "            \"name\": SECURITIES[random.randint(0, len(SECURITIES) - 1)],\n",
    "            \"client\": CLIENTS[random.randint(0, len(CLIENTS) - 1)],\n",
    "            \"open\": (random.random() * 75 + random.randint(0, 9)) * modifier,\n",
    "            \"high\": (random.random() * 105 + random.randint(1, 3)) * modifier,\n",
    "            \"low\": (random.random() * 85 + random.randint(1, 3)) * modifier,\n",
    "            \"close\": (random.random() * 90 + random.randint(1, 3)) * modifier,\n",
    "            \"lastUpdate\": datetime.now(),\n",
    "            \"date\": date.today()\n",
    "        })\n",
    "    return rows"
   ]
  },
  {
   "cell_type": "code",
   "execution_count": null,
   "metadata": {},
   "outputs": [],
   "source": [
    "streaming_table = perspective.Table({\n",
    "    \"name\": str,\n",
    "    \"client\": str,\n",
    "    \"open\": float,\n",
    "    \"high\": float,\n",
    "    \"low\": float,\n",
    "    \"close\": float,\n",
    "    \"lastUpdate\": datetime,\n",
    "    \"date\": date\n",
    "}, limit=2500)"
   ]
  },
  {
   "cell_type": "code",
   "execution_count": null,
   "metadata": {},
   "outputs": [],
   "source": [
    "streaming_widget = perspective.PerspectiveWidget(\n",
    "    streaming_table,\n",
    "    plugin=\"d3_candlestick\",\n",
    "    row_pivots=[\"lastUpdate\"],\n",
    "    columns=[\"open\", \"close\", \"high\", \"low\"]\n",
    ")"
   ]
  },
  {
   "cell_type": "code",
   "execution_count": null,
   "metadata": {},
   "outputs": [],
   "source": [
    "streaming_widget"
   ]
  },
  {
   "cell_type": "code",
   "execution_count": null,
   "metadata": {},
   "outputs": [],
   "source": [
    "async def _update():\n",
    "    while True:\n",
    "        streaming_table.update(data_source())\n",
    "        await asyncio.sleep(0.05)\n",
    "        \n",
    "def update_table():\n",
    "    loop = asyncio.new_event_loop()\n",
    "    task = loop.create_task(_update())\n",
    "    loop.call_later(60, task.cancel)\n",
    "    \n",
    "    try:\n",
    "        loop.run_until_complete(task)\n",
    "    except asyncio.CancelledError:\n",
    "        print(\"Stopped streaming!\")\n",
    "        pass"
   ]
  },
  {
   "cell_type": "code",
   "execution_count": null,
   "metadata": {},
   "outputs": [],
   "source": [
    "thread = threading.Thread(target=update_table)\n",
    "thread.start()"
   ]
  },
  {
   "cell_type": "code",
   "execution_count": null,
   "metadata": {},
   "outputs": [],
   "source": [
    "thread.join()"
   ]
  }
 ],
 "metadata": {
  "kernelspec": {
   "display_name": "Python 3",
   "language": "python",
   "name": "python3"
  },
  "language_info": {
   "codemirror_mode": {
    "name": "ipython",
    "version": 3
   },
   "file_extension": ".py",
   "mimetype": "text/x-python",
   "name": "python",
   "nbconvert_exporter": "python",
   "pygments_lexer": "ipython3",
   "version": "3.7.5"
  }
 },
 "nbformat": 4,
 "nbformat_minor": 4
}
