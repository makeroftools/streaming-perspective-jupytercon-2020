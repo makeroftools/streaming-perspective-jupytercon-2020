{
 "cells": [
  {
   "cell_type": "code",
   "execution_count": 2,
   "metadata": {},
   "outputs": [],
   "source": [
    "import os\n",
    "import sys\n",
    "from datetime import date, datetime\n",
    "\n",
    "import pandas as pd\n",
    "import numpy as np\n",
    "import pyarrow as pa\n",
    "\n",
    "import perspective"
   ]
  },
  {
   "cell_type": "markdown",
   "metadata": {},
   "source": [
    "### Perspective Basics\n",
    "\n",
    "TODO: brief description"
   ]
  },
  {
   "cell_type": "code",
   "execution_count": 2,
   "metadata": {},
   "outputs": [],
   "source": [
    "# Set up some dummy data\n",
    "data = pd.DataFrame({\n",
    "    \"a\": np.random.rand(100),\n",
    "    \"b\": np.ones(100),\n",
    "    \"c\": [str(i) for i in range(100)],\n",
    "    \"d\": [datetime.now() for i in range(100)],\n",
    "    \"e\": [datetime.today() for i in range(100)]\n",
    "})\n",
    "\n",
    "# create a perspective.Table - the base container for data\n",
    "table = perspective.Table(data)\n",
    "\n",
    "# create a view - a query on the data\n",
    "view = table.view(filter=[[\"a\", \">\", 0.5]], sort=[[\"a\", \"desc\"]])"
   ]
  },
  {
   "cell_type": "markdown",
   "metadata": {},
   "source": [
    "#### Getting Data\n",
    "\n",
    "Data can be retrieved from a `View` by calling one of its `to_*` methods: `to_df`, `to_arrow`, `to_dicts`, `to_records`, and `to_csv`. When the underlying `Table` updates, the `View` is automatically notified with new data and will always return the most up-to-date dataset."
   ]
  },
  {
   "cell_type": "code",
   "execution_count": 3,
   "metadata": {},
   "outputs": [
    {
     "data": {
      "text/html": [
       "<div>\n",
       "<style scoped>\n",
       "    .dataframe tbody tr th:only-of-type {\n",
       "        vertical-align: middle;\n",
       "    }\n",
       "\n",
       "    .dataframe tbody tr th {\n",
       "        vertical-align: top;\n",
       "    }\n",
       "\n",
       "    .dataframe thead th {\n",
       "        text-align: right;\n",
       "    }\n",
       "</style>\n",
       "<table border=\"1\" class=\"dataframe\">\n",
       "  <thead>\n",
       "    <tr style=\"text-align: right;\">\n",
       "      <th></th>\n",
       "      <th>index</th>\n",
       "      <th>a</th>\n",
       "      <th>b</th>\n",
       "      <th>c</th>\n",
       "      <th>d</th>\n",
       "      <th>e</th>\n",
       "    </tr>\n",
       "  </thead>\n",
       "  <tbody>\n",
       "    <tr>\n",
       "      <th>0</th>\n",
       "      <td>14</td>\n",
       "      <td>0.980086</td>\n",
       "      <td>1.0</td>\n",
       "      <td>14</td>\n",
       "      <td>2020-09-04 11:53:08.657</td>\n",
       "      <td>2020-09-04 11:53:08.657</td>\n",
       "    </tr>\n",
       "    <tr>\n",
       "      <th>1</th>\n",
       "      <td>43</td>\n",
       "      <td>0.964105</td>\n",
       "      <td>1.0</td>\n",
       "      <td>43</td>\n",
       "      <td>2020-09-04 11:53:08.657</td>\n",
       "      <td>2020-09-04 11:53:08.657</td>\n",
       "    </tr>\n",
       "    <tr>\n",
       "      <th>2</th>\n",
       "      <td>62</td>\n",
       "      <td>0.958505</td>\n",
       "      <td>1.0</td>\n",
       "      <td>62</td>\n",
       "      <td>2020-09-04 11:53:08.657</td>\n",
       "      <td>2020-09-04 11:53:08.657</td>\n",
       "    </tr>\n",
       "    <tr>\n",
       "      <th>3</th>\n",
       "      <td>76</td>\n",
       "      <td>0.955317</td>\n",
       "      <td>1.0</td>\n",
       "      <td>76</td>\n",
       "      <td>2020-09-04 11:53:08.657</td>\n",
       "      <td>2020-09-04 11:53:08.657</td>\n",
       "    </tr>\n",
       "    <tr>\n",
       "      <th>4</th>\n",
       "      <td>42</td>\n",
       "      <td>0.953409</td>\n",
       "      <td>1.0</td>\n",
       "      <td>42</td>\n",
       "      <td>2020-09-04 11:53:08.657</td>\n",
       "      <td>2020-09-04 11:53:08.657</td>\n",
       "    </tr>\n",
       "    <tr>\n",
       "      <th>5</th>\n",
       "      <td>31</td>\n",
       "      <td>0.929740</td>\n",
       "      <td>1.0</td>\n",
       "      <td>31</td>\n",
       "      <td>2020-09-04 11:53:08.657</td>\n",
       "      <td>2020-09-04 11:53:08.657</td>\n",
       "    </tr>\n",
       "    <tr>\n",
       "      <th>6</th>\n",
       "      <td>84</td>\n",
       "      <td>0.928055</td>\n",
       "      <td>1.0</td>\n",
       "      <td>84</td>\n",
       "      <td>2020-09-04 11:53:08.657</td>\n",
       "      <td>2020-09-04 11:53:08.657</td>\n",
       "    </tr>\n",
       "    <tr>\n",
       "      <th>7</th>\n",
       "      <td>50</td>\n",
       "      <td>0.914237</td>\n",
       "      <td>1.0</td>\n",
       "      <td>50</td>\n",
       "      <td>2020-09-04 11:53:08.657</td>\n",
       "      <td>2020-09-04 11:53:08.657</td>\n",
       "    </tr>\n",
       "    <tr>\n",
       "      <th>8</th>\n",
       "      <td>11</td>\n",
       "      <td>0.901878</td>\n",
       "      <td>1.0</td>\n",
       "      <td>11</td>\n",
       "      <td>2020-09-04 11:53:08.657</td>\n",
       "      <td>2020-09-04 11:53:08.657</td>\n",
       "    </tr>\n",
       "    <tr>\n",
       "      <th>9</th>\n",
       "      <td>32</td>\n",
       "      <td>0.899002</td>\n",
       "      <td>1.0</td>\n",
       "      <td>32</td>\n",
       "      <td>2020-09-04 11:53:08.657</td>\n",
       "      <td>2020-09-04 11:53:08.657</td>\n",
       "    </tr>\n",
       "  </tbody>\n",
       "</table>\n",
       "</div>"
      ],
      "text/plain": [
       "   index         a    b   c                       d                       e\n",
       "0     14  0.980086  1.0  14 2020-09-04 11:53:08.657 2020-09-04 11:53:08.657\n",
       "1     43  0.964105  1.0  43 2020-09-04 11:53:08.657 2020-09-04 11:53:08.657\n",
       "2     62  0.958505  1.0  62 2020-09-04 11:53:08.657 2020-09-04 11:53:08.657\n",
       "3     76  0.955317  1.0  76 2020-09-04 11:53:08.657 2020-09-04 11:53:08.657\n",
       "4     42  0.953409  1.0  42 2020-09-04 11:53:08.657 2020-09-04 11:53:08.657\n",
       "5     31  0.929740  1.0  31 2020-09-04 11:53:08.657 2020-09-04 11:53:08.657\n",
       "6     84  0.928055  1.0  84 2020-09-04 11:53:08.657 2020-09-04 11:53:08.657\n",
       "7     50  0.914237  1.0  50 2020-09-04 11:53:08.657 2020-09-04 11:53:08.657\n",
       "8     11  0.901878  1.0  11 2020-09-04 11:53:08.657 2020-09-04 11:53:08.657\n",
       "9     32  0.899002  1.0  32 2020-09-04 11:53:08.657 2020-09-04 11:53:08.657"
      ]
     },
     "metadata": {},
     "output_type": "display_data"
    },
    {
     "data": {
      "text/plain": [
       "'After update'"
      ]
     },
     "metadata": {},
     "output_type": "display_data"
    },
    {
     "data": {
      "text/html": [
       "<div>\n",
       "<style scoped>\n",
       "    .dataframe tbody tr th:only-of-type {\n",
       "        vertical-align: middle;\n",
       "    }\n",
       "\n",
       "    .dataframe tbody tr th {\n",
       "        vertical-align: top;\n",
       "    }\n",
       "\n",
       "    .dataframe thead th {\n",
       "        text-align: right;\n",
       "    }\n",
       "</style>\n",
       "<table border=\"1\" class=\"dataframe\">\n",
       "  <thead>\n",
       "    <tr style=\"text-align: right;\">\n",
       "      <th></th>\n",
       "      <th>index</th>\n",
       "      <th>a</th>\n",
       "      <th>b</th>\n",
       "      <th>c</th>\n",
       "      <th>d</th>\n",
       "      <th>e</th>\n",
       "    </tr>\n",
       "  </thead>\n",
       "  <tbody>\n",
       "    <tr>\n",
       "      <th>0</th>\n",
       "      <td>None</td>\n",
       "      <td>1.500000</td>\n",
       "      <td>1.0</td>\n",
       "      <td>string</td>\n",
       "      <td>2020-09-04 15:53:09.591</td>\n",
       "      <td>NaT</td>\n",
       "    </tr>\n",
       "    <tr>\n",
       "      <th>1</th>\n",
       "      <td>14</td>\n",
       "      <td>0.980086</td>\n",
       "      <td>1.0</td>\n",
       "      <td>14</td>\n",
       "      <td>2020-09-04 11:53:08.657</td>\n",
       "      <td>2020-09-04 11:53:08.657</td>\n",
       "    </tr>\n",
       "    <tr>\n",
       "      <th>2</th>\n",
       "      <td>43</td>\n",
       "      <td>0.964105</td>\n",
       "      <td>1.0</td>\n",
       "      <td>43</td>\n",
       "      <td>2020-09-04 11:53:08.657</td>\n",
       "      <td>2020-09-04 11:53:08.657</td>\n",
       "    </tr>\n",
       "    <tr>\n",
       "      <th>3</th>\n",
       "      <td>62</td>\n",
       "      <td>0.958505</td>\n",
       "      <td>1.0</td>\n",
       "      <td>62</td>\n",
       "      <td>2020-09-04 11:53:08.657</td>\n",
       "      <td>2020-09-04 11:53:08.657</td>\n",
       "    </tr>\n",
       "    <tr>\n",
       "      <th>4</th>\n",
       "      <td>76</td>\n",
       "      <td>0.955317</td>\n",
       "      <td>1.0</td>\n",
       "      <td>76</td>\n",
       "      <td>2020-09-04 11:53:08.657</td>\n",
       "      <td>2020-09-04 11:53:08.657</td>\n",
       "    </tr>\n",
       "    <tr>\n",
       "      <th>5</th>\n",
       "      <td>42</td>\n",
       "      <td>0.953409</td>\n",
       "      <td>1.0</td>\n",
       "      <td>42</td>\n",
       "      <td>2020-09-04 11:53:08.657</td>\n",
       "      <td>2020-09-04 11:53:08.657</td>\n",
       "    </tr>\n",
       "    <tr>\n",
       "      <th>6</th>\n",
       "      <td>31</td>\n",
       "      <td>0.929740</td>\n",
       "      <td>1.0</td>\n",
       "      <td>31</td>\n",
       "      <td>2020-09-04 11:53:08.657</td>\n",
       "      <td>2020-09-04 11:53:08.657</td>\n",
       "    </tr>\n",
       "    <tr>\n",
       "      <th>7</th>\n",
       "      <td>84</td>\n",
       "      <td>0.928055</td>\n",
       "      <td>1.0</td>\n",
       "      <td>84</td>\n",
       "      <td>2020-09-04 11:53:08.657</td>\n",
       "      <td>2020-09-04 11:53:08.657</td>\n",
       "    </tr>\n",
       "    <tr>\n",
       "      <th>8</th>\n",
       "      <td>50</td>\n",
       "      <td>0.914237</td>\n",
       "      <td>1.0</td>\n",
       "      <td>50</td>\n",
       "      <td>2020-09-04 11:53:08.657</td>\n",
       "      <td>2020-09-04 11:53:08.657</td>\n",
       "    </tr>\n",
       "    <tr>\n",
       "      <th>9</th>\n",
       "      <td>11</td>\n",
       "      <td>0.901878</td>\n",
       "      <td>1.0</td>\n",
       "      <td>11</td>\n",
       "      <td>2020-09-04 11:53:08.657</td>\n",
       "      <td>2020-09-04 11:53:08.657</td>\n",
       "    </tr>\n",
       "  </tbody>\n",
       "</table>\n",
       "</div>"
      ],
      "text/plain": [
       "  index         a    b       c                       d                       e\n",
       "0  None  1.500000  1.0  string 2020-09-04 15:53:09.591                     NaT\n",
       "1    14  0.980086  1.0      14 2020-09-04 11:53:08.657 2020-09-04 11:53:08.657\n",
       "2    43  0.964105  1.0      43 2020-09-04 11:53:08.657 2020-09-04 11:53:08.657\n",
       "3    62  0.958505  1.0      62 2020-09-04 11:53:08.657 2020-09-04 11:53:08.657\n",
       "4    76  0.955317  1.0      76 2020-09-04 11:53:08.657 2020-09-04 11:53:08.657\n",
       "5    42  0.953409  1.0      42 2020-09-04 11:53:08.657 2020-09-04 11:53:08.657\n",
       "6    31  0.929740  1.0      31 2020-09-04 11:53:08.657 2020-09-04 11:53:08.657\n",
       "7    84  0.928055  1.0      84 2020-09-04 11:53:08.657 2020-09-04 11:53:08.657\n",
       "8    50  0.914237  1.0      50 2020-09-04 11:53:08.657 2020-09-04 11:53:08.657\n",
       "9    11  0.901878  1.0      11 2020-09-04 11:53:08.657 2020-09-04 11:53:08.657"
      ]
     },
     "metadata": {},
     "output_type": "display_data"
    }
   ],
   "source": [
    "# get some data from the view - supported formats are dataframes, Apache Arrow, dicts of numpy arrays, row/columnar JSON, and CSV\n",
    "filtered = view.to_df(end_row=10)\n",
    "display(filtered)\n",
    "\n",
    "# append to the table with new data\n",
    "table.update([{\"a\": 1.5, \"b\": 1, \"c\": \"string\", \"d\": datetime.now()}])\n",
    "\n",
    "# re-query the data\n",
    "filtered = view.to_df(end_row=10)\n",
    "display(\"After update\", filtered)"
   ]
  },
  {
   "cell_type": "markdown",
   "metadata": {},
   "source": [
    "#### Schemas and Updates"
   ]
  },
  {
   "cell_type": "code",
   "execution_count": 4,
   "metadata": {},
   "outputs": [],
   "source": [
    "# Create an indexed table from a schema - a mapping of column names to types, primary keyed by `a`\n",
    "schema_table = perspective.Table({\n",
    "    \"a\": float,\n",
    "    \"b\": float,\n",
    "    \"c\": str,\n",
    "    \"d\": datetime\n",
    "}, index=\"a\")\n",
    "\n",
    "# Add an `on_update` callback, which fires with an Arrow-encoded binary of the updated rows\n",
    "def callback(port, delta):\n",
    "    # Update the indexed table with the updated rows, which will update in-place based on `index`\n",
    "    schema_table.update(delta)\n",
    "\n",
    "view.on_update(callback, mode=\"row\")"
   ]
  },
  {
   "cell_type": "code",
   "execution_count": 5,
   "metadata": {},
   "outputs": [
    {
     "data": {
      "text/plain": [
       "{'__ROW_PATH__': [[], [1.5], [2.5]],\n",
       " 'a': [4.0, 1.5, 2.5],\n",
       " 'b': [3.0, 1.0, 2.0],\n",
       " 'd': [2, 1, 1],\n",
       " 'c': ['-', 'string', 'string2']}"
      ]
     },
     "metadata": {},
     "output_type": "display_data"
    }
   ],
   "source": [
    "# Update the unindexed table, and query the indexed table\n",
    "table.update([\n",
    "    {\"a\": 1.5, \"b\": 1, \"c\": \"string\", \"d\": datetime.now()},\n",
    "    {\"a\": 2.5, \"b\": 2, \"c\": \"string2\", \"d\": datetime.now()}\n",
    "])\n",
    "\n",
    "# Group values by `a`\n",
    "pivoted_view = schema_table.view(row_pivots=[\"a\"], aggregates={\"c\": \"unique\"})\n",
    "\n",
    "# Get column-oriented JSON\n",
    "pivoted_output = pivoted_view.to_columns()\n",
    "display(pivoted_output)"
   ]
  },
  {
   "cell_type": "code",
   "execution_count": 6,
   "metadata": {},
   "outputs": [
    {
     "data": {
      "text/plain": [
       "{'__ROW_PATH__': [[], [1.5], [2.5]],\n",
       " 'a': [4.0, 1.5, 2.5],\n",
       " 'b': [102.0, 100.0, 2.0],\n",
       " 'd': [2, 1, 1],\n",
       " 'c': ['-', 'new string', 'string2']}"
      ]
     },
     "metadata": {},
     "output_type": "display_data"
    }
   ],
   "source": [
    "# Updates with the same primary key will overwrite\n",
    "table.update([\n",
    "    {\"a\": 1.5, \"b\": 100, \"c\": \"new string\"}\n",
    "])\n",
    "\n",
    "pivoted_output = pivoted_view.to_columns()\n",
    "display(pivoted_output)"
   ]
  },
  {
   "cell_type": "markdown",
   "metadata": {},
   "source": [
    "#### TODO: Working with Arrows"
   ]
  },
  {
   "cell_type": "markdown",
   "metadata": {},
   "source": [
    "### PerspectiveWidget\n",
    "\n",
    "TODO: Describe"
   ]
  },
  {
   "cell_type": "code",
   "execution_count": 8,
   "metadata": {},
   "outputs": [
    {
     "ename": "PerspectiveError",
     "evalue": "Unrecognized `plugin`: datagrid",
     "output_type": "error",
     "traceback": [
      "\u001b[0;31m---------------------------------------------------------------------------\u001b[0m",
      "\u001b[0;31mPerspectiveError\u001b[0m                          Traceback (most recent call last)",
      "\u001b[0;32m<ipython-input-8-dc18fa3bca61>\u001b[0m in \u001b[0;36m<module>\u001b[0;34m\u001b[0m\n\u001b[1;32m      1\u001b[0m \u001b[0;31m# Create a PerspectiveWidget from the tables we just created\u001b[0m\u001b[0;34m\u001b[0m\u001b[0;34m\u001b[0m\u001b[0;34m\u001b[0m\u001b[0m\n\u001b[0;32m----> 2\u001b[0;31m \u001b[0mwidget\u001b[0m \u001b[0;34m=\u001b[0m \u001b[0mperspective\u001b[0m\u001b[0;34m.\u001b[0m\u001b[0mPerspectiveWidget\u001b[0m\u001b[0;34m(\u001b[0m\u001b[0mschema_table\u001b[0m\u001b[0;34m,\u001b[0m \u001b[0mplugin\u001b[0m\u001b[0;34m=\u001b[0m\u001b[0;34m\"datagrid\"\u001b[0m\u001b[0;34m,\u001b[0m \u001b[0mrow_pivots\u001b[0m\u001b[0;34m=\u001b[0m\u001b[0;34m[\u001b[0m\u001b[0;34m\"a\"\u001b[0m\u001b[0;34m]\u001b[0m\u001b[0;34m,\u001b[0m \u001b[0maggregates\u001b[0m\u001b[0;34m=\u001b[0m\u001b[0;34m{\u001b[0m\u001b[0;34m\"a\"\u001b[0m\u001b[0;34m:\u001b[0m \u001b[0;34m\"avg\"\u001b[0m\u001b[0;34m}\u001b[0m\u001b[0;34m,\u001b[0m \u001b[0meditable\u001b[0m\u001b[0;34m=\u001b[0m\u001b[0;32mTrue\u001b[0m\u001b[0;34m)\u001b[0m\u001b[0;34m\u001b[0m\u001b[0;34m\u001b[0m\u001b[0m\n\u001b[0m\u001b[1;32m      3\u001b[0m \u001b[0mdisplay\u001b[0m\u001b[0;34m(\u001b[0m\u001b[0mwidget\u001b[0m\u001b[0;34m)\u001b[0m\u001b[0;34m\u001b[0m\u001b[0;34m\u001b[0m\u001b[0m\n",
      "\u001b[0;32m/usr/local/lib/python3.7/site-packages/perspective/widget/widget.py\u001b[0m in \u001b[0;36m__init__\u001b[0;34m(self, table_or_data, index, limit, client, **kwargs)\u001b[0m\n\u001b[1;32m    225\u001b[0m \u001b[0;34m\u001b[0m\u001b[0m\n\u001b[1;32m    226\u001b[0m         \u001b[0;31m# Initialize the viewer\u001b[0m\u001b[0;34m\u001b[0m\u001b[0;34m\u001b[0m\u001b[0;34m\u001b[0m\u001b[0m\n\u001b[0;32m--> 227\u001b[0;31m         \u001b[0msuper\u001b[0m\u001b[0;34m(\u001b[0m\u001b[0mPerspectiveWidget\u001b[0m\u001b[0;34m,\u001b[0m \u001b[0mself\u001b[0m\u001b[0;34m)\u001b[0m\u001b[0;34m.\u001b[0m\u001b[0m__init__\u001b[0m\u001b[0;34m(\u001b[0m\u001b[0;34m**\u001b[0m\u001b[0mkwargs\u001b[0m\u001b[0;34m)\u001b[0m\u001b[0;34m\u001b[0m\u001b[0;34m\u001b[0m\u001b[0m\n\u001b[0m\u001b[1;32m    228\u001b[0m \u001b[0;34m\u001b[0m\u001b[0m\n\u001b[1;32m    229\u001b[0m         \u001b[0;31m# Handle messages from the the front end\u001b[0m\u001b[0;34m\u001b[0m\u001b[0;34m\u001b[0m\u001b[0;34m\u001b[0m\u001b[0m\n",
      "\u001b[0;32m/usr/local/lib/python3.7/site-packages/ipywidgets/widgets/widget.py\u001b[0m in \u001b[0;36m__init__\u001b[0;34m(self, **kwargs)\u001b[0m\n\u001b[1;32m    410\u001b[0m         \u001b[0;34m\"\"\"Public constructor\"\"\"\u001b[0m\u001b[0;34m\u001b[0m\u001b[0;34m\u001b[0m\u001b[0m\n\u001b[1;32m    411\u001b[0m         \u001b[0mself\u001b[0m\u001b[0;34m.\u001b[0m\u001b[0m_model_id\u001b[0m \u001b[0;34m=\u001b[0m \u001b[0mkwargs\u001b[0m\u001b[0;34m.\u001b[0m\u001b[0mpop\u001b[0m\u001b[0;34m(\u001b[0m\u001b[0;34m'model_id'\u001b[0m\u001b[0;34m,\u001b[0m \u001b[0;32mNone\u001b[0m\u001b[0;34m)\u001b[0m\u001b[0;34m\u001b[0m\u001b[0;34m\u001b[0m\u001b[0m\n\u001b[0;32m--> 412\u001b[0;31m         \u001b[0msuper\u001b[0m\u001b[0;34m(\u001b[0m\u001b[0mWidget\u001b[0m\u001b[0;34m,\u001b[0m \u001b[0mself\u001b[0m\u001b[0;34m)\u001b[0m\u001b[0;34m.\u001b[0m\u001b[0m__init__\u001b[0m\u001b[0;34m(\u001b[0m\u001b[0;34m**\u001b[0m\u001b[0mkwargs\u001b[0m\u001b[0;34m)\u001b[0m\u001b[0;34m\u001b[0m\u001b[0;34m\u001b[0m\u001b[0m\n\u001b[0m\u001b[1;32m    413\u001b[0m \u001b[0;34m\u001b[0m\u001b[0m\n\u001b[1;32m    414\u001b[0m         \u001b[0mWidget\u001b[0m\u001b[0;34m.\u001b[0m\u001b[0m_call_widget_constructed\u001b[0m\u001b[0;34m(\u001b[0m\u001b[0mself\u001b[0m\u001b[0;34m)\u001b[0m\u001b[0;34m\u001b[0m\u001b[0;34m\u001b[0m\u001b[0m\n",
      "\u001b[0;32m/usr/local/lib/python3.7/site-packages/perspective/viewer/viewer.py\u001b[0m in \u001b[0;36m__init__\u001b[0;34m(self, plugin, columns, row_pivots, column_pivots, aggregates, sort, filters, computed_columns, plugin_config, dark, editable)\u001b[0m\n\u001b[1;32m     98\u001b[0m \u001b[0;34m\u001b[0m\u001b[0m\n\u001b[1;32m     99\u001b[0m         \u001b[0;31m# Viewer configuration\u001b[0m\u001b[0;34m\u001b[0m\u001b[0;34m\u001b[0m\u001b[0;34m\u001b[0m\u001b[0m\n\u001b[0;32m--> 100\u001b[0;31m         \u001b[0mself\u001b[0m\u001b[0;34m.\u001b[0m\u001b[0mplugin\u001b[0m \u001b[0;34m=\u001b[0m \u001b[0mvalidate_plugin\u001b[0m\u001b[0;34m(\u001b[0m\u001b[0mplugin\u001b[0m\u001b[0;34m)\u001b[0m\u001b[0;34m\u001b[0m\u001b[0;34m\u001b[0m\u001b[0m\n\u001b[0m\u001b[1;32m    101\u001b[0m         \u001b[0mself\u001b[0m\u001b[0;34m.\u001b[0m\u001b[0mcolumns\u001b[0m \u001b[0;34m=\u001b[0m \u001b[0mvalidate_columns\u001b[0m\u001b[0;34m(\u001b[0m\u001b[0mcolumns\u001b[0m\u001b[0;34m)\u001b[0m \u001b[0;32mor\u001b[0m \u001b[0;34m[\u001b[0m\u001b[0;34m]\u001b[0m\u001b[0;34m\u001b[0m\u001b[0;34m\u001b[0m\u001b[0m\n\u001b[1;32m    102\u001b[0m         \u001b[0mself\u001b[0m\u001b[0;34m.\u001b[0m\u001b[0mrow_pivots\u001b[0m \u001b[0;34m=\u001b[0m \u001b[0mvalidate_row_pivots\u001b[0m\u001b[0;34m(\u001b[0m\u001b[0mrow_pivots\u001b[0m\u001b[0;34m)\u001b[0m \u001b[0;32mor\u001b[0m \u001b[0;34m[\u001b[0m\u001b[0;34m]\u001b[0m\u001b[0;34m\u001b[0m\u001b[0;34m\u001b[0m\u001b[0m\n",
      "\u001b[0;32m/usr/local/lib/python3.7/site-packages/perspective/viewer/validate.py\u001b[0m in \u001b[0;36mvalidate_plugin\u001b[0;34m(plugin)\u001b[0m\n\u001b[1;32m     17\u001b[0m     \u001b[0;32melif\u001b[0m \u001b[0misinstance\u001b[0m\u001b[0;34m(\u001b[0m\u001b[0mplugin\u001b[0m\u001b[0;34m,\u001b[0m \u001b[0mstring_types\u001b[0m\u001b[0;34m)\u001b[0m\u001b[0;34m:\u001b[0m\u001b[0;34m\u001b[0m\u001b[0;34m\u001b[0m\u001b[0m\n\u001b[1;32m     18\u001b[0m         \u001b[0;32mif\u001b[0m \u001b[0mplugin\u001b[0m \u001b[0;32mnot\u001b[0m \u001b[0;32min\u001b[0m \u001b[0mPlugin\u001b[0m\u001b[0;34m.\u001b[0m\u001b[0moptions\u001b[0m\u001b[0;34m(\u001b[0m\u001b[0;34m)\u001b[0m\u001b[0;34m:\u001b[0m\u001b[0;34m\u001b[0m\u001b[0;34m\u001b[0m\u001b[0m\n\u001b[0;32m---> 19\u001b[0;31m             \u001b[0;32mraise\u001b[0m \u001b[0mPerspectiveError\u001b[0m\u001b[0;34m(\u001b[0m\u001b[0;34m\"Unrecognized `plugin`: {0}\"\u001b[0m\u001b[0;34m.\u001b[0m\u001b[0mformat\u001b[0m\u001b[0;34m(\u001b[0m\u001b[0mplugin\u001b[0m\u001b[0;34m)\u001b[0m\u001b[0;34m)\u001b[0m\u001b[0;34m\u001b[0m\u001b[0;34m\u001b[0m\u001b[0m\n\u001b[0m\u001b[1;32m     20\u001b[0m         \u001b[0;32mreturn\u001b[0m \u001b[0mplugin\u001b[0m\u001b[0;34m\u001b[0m\u001b[0;34m\u001b[0m\u001b[0m\n\u001b[1;32m     21\u001b[0m     \u001b[0;32melse\u001b[0m\u001b[0;34m:\u001b[0m\u001b[0;34m\u001b[0m\u001b[0;34m\u001b[0m\u001b[0m\n",
      "\u001b[0;31mPerspectiveError\u001b[0m: Unrecognized `plugin`: datagrid"
     ]
    }
   ],
   "source": [
    "# Create a PerspectiveWidget from the tables we just created\n",
    "widget = perspective.PerspectiveWidget(schema_table, plugin=\"datagrid\", row_pivots=[\"a\"], aggregates={\"a\": \"avg\"}, editable=True)\n",
    "display(widget)"
   ]
  },
  {
   "cell_type": "markdown",
   "metadata": {},
   "source": [
    "### Chaining Perspectives with `on_update`"
   ]
  },
  {
   "cell_type": "code",
   "execution_count": 10,
   "metadata": {},
   "outputs": [],
   "source": [
    "# TODO"
   ]
  },
  {
   "cell_type": "code",
   "execution_count": null,
   "metadata": {},
   "outputs": [],
   "source": []
  }
 ],
 "metadata": {
  "kernelspec": {
   "display_name": "Python 3",
   "language": "python",
   "name": "python3"
  },
  "language_info": {
   "codemirror_mode": {
    "name": "ipython",
    "version": 3
   },
   "file_extension": ".py",
   "mimetype": "text/x-python",
   "name": "python",
   "nbconvert_exporter": "python",
   "pygments_lexer": "ipython3",
   "version": "3.7.5"
  }
 },
 "nbformat": 4,
 "nbformat_minor": 4
}
