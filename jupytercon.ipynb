{
 "cells": [
  {
   "cell_type": "code",
   "execution_count": 16,
   "metadata": {},
   "outputs": [],
   "source": [
    "# Basic imports\n",
    "import nbimporter\n",
    "import logging\n",
    "import json\n",
    "import random\n",
    "import time\n",
    "import asyncio\n",
    "from datetime import date, datetime\n",
    "\n",
    "# Library imports\n",
    "import pandas as pd\n",
    "import numpy as np\n",
    "import pyarrow as pa\n",
    "\n",
    "# pyEX is an easy-to-use IEX API interface built for Python\n",
    "import pyEX\n",
    "\n",
    "# The main course\n",
    "import perspective\n",
    "\n",
    "logging.basicConfig(format=\"%(asctime)s %(message)s\", level=logging.INFO)"
   ]
  },
  {
   "cell_type": "markdown",
   "metadata": {},
   "source": [
    "# Streaming Data Sources\n",
    "\n",
    "Inside `datasources.ipynb`, there are a few streaming datasources that will feed live data to Perspective. \n",
    "\n",
    "Each datasource runs on its own subprocess and subthread in order to not block the main Jupyter thread from running, so cells can still be added and evaluated as normal. In the background, the datasource will fetch data, clean it (if necessary), and update the Perspective tables—which will display the new results in each widget in the notebook."
   ]
  },
  {
   "cell_type": "code",
   "execution_count": 9,
   "metadata": {},
   "outputs": [
    {
     "name": "stdout",
     "output_type": "stream",
     "text": [
      "Importing Jupyter notebook from datasources.ipynb\n"
     ]
    }
   ],
   "source": [
    "from datasources import IEXIntervalDataSource, IEXSSEDataSource, IEXStaticDataSource"
   ]
  },
  {
   "cell_type": "code",
   "execution_count": 10,
   "metadata": {},
   "outputs": [],
   "source": [
    "# Create a pyEX client with the token - this is just an example sandbox token.\n",
    "token = \"Tpk_ecc89ddf30a611e9958142010a80043c\"\n",
    "client = pyEX.Client(api_token=token, version=\"sandbox\")"
   ]
  },
  {
   "cell_type": "markdown",
   "metadata": {},
   "source": [
    "Create the schemas for the tables we are initializing—Perspective will infer data types from what data is passed in, but using a schema offers greater control."
   ]
  },
  {
   "cell_type": "code",
   "execution_count": 13,
   "metadata": {},
   "outputs": [],
   "source": [
    "batch_schema = {\n",
    "    \"symbol\": str,\n",
    "    \"companyName\": str,\n",
    "    \"open\": float,\n",
    "    \"openTime\": datetime,\n",
    "    \"close\": float,\n",
    "    \"closeTime\": datetime,\n",
    "    \"high\": float,\n",
    "    \"highTime\": datetime,\n",
    "    \"low\": float,\n",
    "    \"lowTime\": datetime,\n",
    "    \"latestPrice\": float,\n",
    "    \"latestUpdate\": datetime,\n",
    "    \"latestVolume\": int,\n",
    "    \"volume\": int\n",
    "}\n",
    "\n",
    "# TODO: rename\n",
    "last_schema = {\n",
    "    \"symbol\": str,\n",
    "    \"price\": float,\n",
    "    \"time\": datetime,\n",
    "    \"size\": int,\n",
    "}\n",
    "tops_schema = {\n",
    "    \"symbol\": str,\n",
    "    \"bidSize\": int,\n",
    "    \"bidPrice\": float,\n",
    "    \"askSize\": int,\n",
    "    \"askPrice\": float,\n",
    "    \"volume\": int,\n",
    "    \"lastSalePrice\": float,\n",
    "    \"lastSaleSize\": int,\n",
    "    \"lastSaleTime\": datetime,\n",
    "    \"lastUpdated\": datetime,\n",
    "    \"sector\": str,\n",
    "    \"securityType\": str,\n",
    "    \"seq\": int\n",
    "}\n",
    "holdings_schema = {\n",
    "    \"symbol\": str,\n",
    "    \"quantity\": int,\n",
    "    \"price\": float,\n",
    "    \"time\": datetime\n",
    "}\n",
    "charts_schema = {\n",
    "    \"date\": date,\n",
    "    \"open\": float,\n",
    "    \"high\": float,\n",
    "    \"low\": float,\n",
    "    \"close\": float,\n",
    "    \"volume\": int,\n",
    "    \"symbol\": str,\n",
    "    \"quantity\": int\n",
    "}"
   ]
  },
  {
   "cell_type": "markdown",
   "metadata": {},
   "source": [
    "### Our Portfolio\n",
    "\n",
    "For this demonstration, let's set up a fictional portfolio of stocks—it's one of the most natural use cases for streaming data, and it provides a way for us to join static and streaming data together intuitively. In a more comprehensive example, our holdings of individual stocks will probably change over time, but we'll keep it fixed for now."
   ]
  },
  {
   "cell_type": "code",
   "execution_count": 19,
   "metadata": {},
   "outputs": [],
   "source": [
    "symbols = [\"AAPL\", \"MSFT\", \"AMZN\", \"TSLA\", \"SPY\", \"SNAP\", \"ZM\", \"JPM\"]"
   ]
  },
  {
   "cell_type": "markdown",
   "metadata": {},
   "source": [
    "To save our portfolio, we're going to use two Perspective tables:\n",
    "\n",
    "- `holdings_table`, which is indexed on `symbol` and will always return the latest value of our portfolio based on the prices for each component.\n",
    "- `holdings_total_table`, which is not indexed, and will hold a history of prices and values for each symbol, allowing us to see the value of our portfolio over time.\n",
    "\n",
    "Using `on_update`, we link the two tables together; whenever `holdings_table` updates from the datasource, it will pass the updated rows to `holdings_total_table`."
   ]
  },
  {
   "cell_type": "code",
   "execution_count": 20,
   "metadata": {},
   "outputs": [],
   "source": [
    "holdings_table = perspective.Table(holdings_schema, index=\"symbol\")\n",
    "holdings = {symbol: random.randint(5, 10) for symbol in symbols}\n",
    "holdings_table.update({\n",
    "    \"symbol\": symbols,\n",
    "    \"quantity\": [holdings[symbol] for symbol in symbols]\n",
    "})\n",
    "\n",
    "holdings_total_table = perspective.Table(holdings_schema)\n",
    "holdings_view = holdings_table.view()\n",
    "\n",
    "def update_total(port, delta):\n",
    "    holdings_total_table.update(delta)\n",
    "\n",
    "holdings_view.on_update(update_total, mode=\"row\")"
   ]
  },
  {
   "cell_type": "markdown",
   "metadata": {},
   "source": [
    "TODO: clean this up"
   ]
  },
  {
   "cell_type": "code",
   "execution_count": null,
   "metadata": {},
   "outputs": [],
   "source": [
    "save_holdings_view = holdings_total_table.view(\n",
    "    columns=[\"symbol\", \"quantity\", \"value\", \"time\"],\n",
    "    computed_columns=[{\n",
    "        \"column\": \"value\", \n",
    "        \"computed_function_name\": \"*\",\n",
    "        \"inputs\": [\"quantity\", \"price\"]\n",
    "    }]\n",
    ")\n",
    "\n",
    "# TODO: clean this up\n",
    "async def _save():\n",
    "    while True:\n",
    "        name = \"portfolio_value_{0:%Y_%m_%d}.arrow\".format(datetime.today())\n",
    "        with open(name, \"wb\") as value_arrow:\n",
    "            value_arrow.write(save_holdings_view.to_arrow())\n",
    "        logging.info(\"Saved %d rows to %s\", holdings_total_table.size(), name)\n",
    "        await asyncio.sleep(60)\n",
    "\n",
    "def save_to_arrow():\n",
    "    loop = asyncio.new_event_loop()\n",
    "    asyncio.set_event_loop(loop)\n",
    "    task = loop.create_task(_save())\n",
    "    loop.run_until_complete(task)\n",
    "    \n",
    "save_thread = threading.Thread(target=save_to_arrow)"
   ]
  },
  {
   "cell_type": "code",
   "execution_count": null,
   "metadata": {},
   "outputs": [],
   "source": [
    "save_thread.start()"
   ]
  },
  {
   "cell_type": "markdown",
   "metadata": {},
   "source": [
    "Using our indexed `holdings_table`, we can create a new `PerspectiveWidget` to view the Table in Jupyterlab. Using `PerspectiveWidget`'s configuration options, we can set up the view to be exactly what we want—to show the latest price and value for our portfolio.\n",
    "\n",
    "Notice the `computed_columns` field—the `value` of the portfolio isn't constructed elsewhere. Instead, the Perspective engine offers computed functions, which allow for column-wise computations to be applied on your data. As your data updates, the results of these \"computed columns\" update as well. Computed columns can be defined here in Python, or in the UI using a minimal expression language with autocomplete and syntax highlighting/type checking."
   ]
  },
  {
   "cell_type": "code",
   "execution_count": null,
   "metadata": {},
   "outputs": [],
   "source": [
    "holdings_widget = perspective.PerspectiveWidget(\n",
    "    holdings_table,\n",
    "    aggregates={\n",
    "        \"value\": \"sum\",\n",
    "        \"price\": \"last\"\n",
    "    },\n",
    "    row_pivots=[\"symbol\"],\n",
    "    columns=[\"price\", \"quantity\", \"value\"],\n",
    "    sort=[[\"value\", \"desc\"]],\n",
    "    computed_columns=[{\n",
    "        \"column\": \"value\", \n",
    "        \"computed_function_name\": \"*\",\n",
    "        \"inputs\": [\"quantity\", \"price\"]\n",
    "    }]\n",
    ")\n",
    "holdings_widget"
   ]
  },
  {
   "cell_type": "markdown",
   "metadata": {},
   "source": [
    "And do the same for our `holdings_total_table`—here, we see a line chart of the portfolio value as new prices tick in, split by each symbol so we can see how the portfolio's total value is divided amongst each component."
   ]
  },
  {
   "cell_type": "code",
   "execution_count": null,
   "metadata": {},
   "outputs": [],
   "source": [
    "holdings_total_widget = perspective.PerspectiveWidget(\n",
    "    holdings_total_table,\n",
    "    plugin=\"y_line\",\n",
    "    row_pivots=[\"time\"],\n",
    "    column_pivots=[\"symbol\"],\n",
    "    aggregates={\n",
    "        \"quantity\": \"last\",\n",
    "        \"price\": \"last\"\n",
    "    },\n",
    "    columns=[\"value\"],\n",
    "    computed_columns=[{\n",
    "        \"column\": \"value\", \n",
    "        \"computed_function_name\": \"*\",\n",
    "        \"inputs\": [\"quantity\", \"price\"]\n",
    "    }]\n",
    ")\n",
    "holdings_total_widget"
   ]
  },
  {
   "cell_type": "markdown",
   "metadata": {},
   "source": [
    "TODO: feed live quotes into holdings, join \"static\" with streaming data"
   ]
  },
  {
   "cell_type": "code",
   "execution_count": null,
   "metadata": {},
   "outputs": [],
   "source": [
    "quotes_table = perspective.Table(last_schema)\n",
    "quotes_view = quotes_table.view()\n",
    "\n",
    "def update_holdings(port, delta):\n",
    "    holdings_table.update(delta)\n",
    "    \n",
    "quotes_view.on_update(update_holdings, mode=\"row\")"
   ]
  },
  {
   "cell_type": "code",
   "execution_count": null,
   "metadata": {},
   "outputs": [],
   "source": [
    "quotes_widget = perspective.PerspectiveWidget(quotes_table, row_pivots=[\"symbol\"], columns=[\"price\"], aggregates={\"price\": \"last\"}, sort=[[\"price\", \"desc\"]])"
   ]
  },
  {
   "cell_type": "code",
   "execution_count": null,
   "metadata": {},
   "outputs": [],
   "source": [
    "quotes_widget"
   ]
  },
  {
   "cell_type": "markdown",
   "metadata": {},
   "source": [
    "TODO: Need to clean the ticks to have the right format (probably only for test data)."
   ]
  },
  {
   "cell_type": "code",
   "execution_count": null,
   "metadata": {},
   "outputs": [],
   "source": [
    "def clean_quote(tick):\n",
    "    for t in tick:\n",
    "        t[\"time\"] = datetime.now()\n",
    "    return tick"
   ]
  },
  {
   "cell_type": "markdown",
   "metadata": {},
   "source": [
    "TODO: explain how we use the datasource"
   ]
  },
  {
   "cell_type": "code",
   "execution_count": null,
   "metadata": {},
   "outputs": [],
   "source": [
    "quotes = IEXIntervalDataSource(table=quotes_table, iex_source=client.last, data_cleaner=clean_quote, symbols=symbols)"
   ]
  },
  {
   "cell_type": "code",
   "execution_count": null,
   "metadata": {},
   "outputs": [],
   "source": [
    "quotes.start()"
   ]
  },
  {
   "cell_type": "code",
   "execution_count": null,
   "metadata": {},
   "outputs": [],
   "source": [
    "quotes.stop()"
   ]
  },
  {
   "cell_type": "code",
   "execution_count": null,
   "metadata": {},
   "outputs": [],
   "source": [
    "charts_table = perspective.Table(charts_schema)"
   ]
  },
  {
   "cell_type": "markdown",
   "metadata": {},
   "source": [
    "TODO: use OHLC to demonstrate UI features, computed UI, filters, etc."
   ]
  },
  {
   "cell_type": "code",
   "execution_count": null,
   "metadata": {},
   "outputs": [],
   "source": [
    "ohlc_config = {\n",
    "    \"plugin\": \"d3_ohlc\",\n",
    "    \"row_pivots\": [\"date\"],\n",
    "    \"columns\": [\"open\", \"close\", \"high\", \"low\"],\n",
    "    \"aggregates\": {\"quantity\": \"last\"},\n",
    "    \"filters\": [[\"symbol\", \"==\", \"SPY\"]],\n",
    "    \"computed_columns\": [{\n",
    "        \"column\": \"value\", \n",
    "        \"computed_function_name\": \"*\",\n",
    "        \"inputs\": [\"quantity\", \"close\"]\n",
    "    }]\n",
    "}\n",
    "\n",
    "value_config = {\n",
    "    \"plugin\": \"y_line\",\n",
    "    \"row_pivots\": [\"date\"],\n",
    "    \"column_pivots\": [\"symbol\"],\n",
    "    \"columns\": [\"value\"],\n",
    "    \"aggregates\": {\"quantity\": \"last\"},\n",
    "    \"computed_columns\": [{\n",
    "        \"column\": \"value\", \n",
    "        \"computed_function_name\": \"*\",\n",
    "        \"inputs\": [\"quantity\", \"close\"]\n",
    "    }]\n",
    "}\n",
    "\n",
    "charts_widget = perspective.PerspectiveWidget(\n",
    "    charts_table,\n",
    "    **ohlc_config\n",
    ")\n",
    "charts_widget\n",
    "# TODO: show computed time buckets here"
   ]
  },
  {
   "cell_type": "code",
   "execution_count": null,
   "metadata": {},
   "outputs": [],
   "source": [
    "def clean_charts(tick):\n",
    "    out = []\n",
    "    for k, v in tick.items():\n",
    "        chart = v[\"chart\"]\n",
    "        for c in chart:\n",
    "            c[\"symbol\"] = k\n",
    "            c[\"quantity\"] = holdings[k]\n",
    "            out.append(c)\n",
    "    return out"
   ]
  },
  {
   "cell_type": "code",
   "execution_count": null,
   "metadata": {},
   "outputs": [],
   "source": [
    "# range_: 1d, 1m, 1y, etc.\n",
    "charts = IEXStaticDataSource(charts_table, iex_source=client.batch, data_cleaner=clean_charts, symbols=symbols, fields=\"chart\", range_=\"1y\")"
   ]
  },
  {
   "cell_type": "code",
   "execution_count": null,
   "metadata": {},
   "outputs": [],
   "source": [
    "charts.start()"
   ]
  },
  {
   "cell_type": "code",
   "execution_count": null,
   "metadata": {},
   "outputs": [],
   "source": [
    "charts.stop()"
   ]
  },
  {
   "cell_type": "code",
   "execution_count": null,
   "metadata": {},
   "outputs": [],
   "source": [
    "with open(\"portfolio_value_{0:%Y_%m_%d}.arrow\".format(datetime.today()), \"rb\") as arr:\n",
    "    w = perspective.PerspectiveWidget(arr.read(), sort=[[\"time\", \"desc\"]])\n",
    "    display(w)"
   ]
  },
  {
   "cell_type": "code",
   "execution_count": 17,
   "metadata": {},
   "outputs": [],
   "source": [
    "# TODO: remember to mention that all this code can be modularized and run as a tornado server for perspective in the browser"
   ]
  }
 ],
 "metadata": {
  "kernelspec": {
   "display_name": "Python 3",
   "language": "python",
   "name": "python3"
  },
  "language_info": {
   "codemirror_mode": {
    "name": "ipython",
    "version": 3
   },
   "file_extension": ".py",
   "mimetype": "text/x-python",
   "name": "python",
   "nbconvert_exporter": "python",
   "pygments_lexer": "ipython3",
   "version": "3.7.5"
  }
 },
 "nbformat": 4,
 "nbformat_minor": 4
}
